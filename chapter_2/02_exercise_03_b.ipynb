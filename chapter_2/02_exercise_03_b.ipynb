{
 "cells": [
  {
   "cell_type": "markdown",
   "metadata": {},
   "source": [
    "**Chapter 2 – End-to-end Machine Learning project**"
   ]
  },
  {
   "attachments": {},
   "cell_type": "markdown",
   "metadata": {},
   "source": [
    "*This notebook contains the solution to the exercise 3 in chapter 2*"
   ]
  },
  {
   "attachments": {},
   "cell_type": "markdown",
   "metadata": {},
   "source": [
    "# Exercise 3"
   ]
  },
  {
   "attachments": {},
   "cell_type": "markdown",
   "metadata": {},
   "source": [
    "**Exercise**: _Try adding a `SelectFromModel` transformer in the preparation pipeline to select only the most important attributes._"
   ]
  },
  {
   "cell_type": "code",
   "execution_count": 16,
   "metadata": {},
   "outputs": [],
   "source": [
    "import sklearn\n",
    "import pandas as pd\n",
    "import numpy as np\n",
    "import matplotlib.pyplot as plt\n",
    "import os\n",
    "import tarfile\n",
    "import urllib\n",
    "import joblib\n",
    "from scipy import stats\n",
    "from pandas.plotting import scatter_matrix\n",
    "from packaging import version\n",
    "from zlib import crc32\n",
    "from pathlib import Path\n",
    "from sklearn.model_selection import train_test_split\n",
    "from sklearn.model_selection import StratifiedShuffleSplit\n",
    "from sklearn.impute import SimpleImputer\n",
    "from sklearn.ensemble import IsolationForest\n",
    "from sklearn.preprocessing import OrdinalEncoder\n",
    "from sklearn.preprocessing import OneHotEncoder\n",
    "from sklearn.preprocessing import MinMaxScaler\n",
    "from sklearn.preprocessing import StandardScaler\n",
    "from sklearn.metrics.pairwise import rbf_kernel\n",
    "from sklearn.linear_model import LinearRegression\n",
    "from sklearn.compose import TransformedTargetRegressor\n",
    "from sklearn.preprocessing import FunctionTransformer\n",
    "from sklearn.base import BaseEstimator, TransformerMixin\n",
    "from sklearn.utils.validation import check_array, check_is_fitted\n",
    "from sklearn.cluster import KMeans\n",
    "from sklearn.pipeline import Pipeline\n",
    "from sklearn.pipeline import make_pipeline\n",
    "from sklearn import set_config\n",
    "from sklearn.compose import ColumnTransformer\n",
    "from sklearn.compose import make_column_selector, make_column_transformer\n",
    "from sklearn.metrics import mean_squared_error\n",
    "from sklearn.tree import DecisionTreeRegressor\n",
    "from sklearn.model_selection import cross_val_score\n",
    "from sklearn.ensemble import RandomForestRegressor\n",
    "from sklearn.model_selection import GridSearchCV\n",
    "from sklearn.experimental import enable_halving_search_cv\n",
    "from sklearn.model_selection import HalvingRandomSearchCV\n",
    "from sklearn.model_selection import RandomizedSearchCV\n",
    "from scipy.stats import randint\n",
    "from scipy.stats import randint, uniform, geom, expon\n",
    "from scipy.stats import loguniform\n",
    "\n",
    "#from handson_ml3.my_folder.chapter_2.downloading_the_data import download_housing_data, LOCAL_PATH, HOUSING_PATH\n",
    "from downloading_the_data import download_housing_data, LOCAL_PATH, HOUSING_PATH\n",
    "\n",
    "assert version.parse(sklearn.__version__) >= version.parse(\"1.0.1\")"
   ]
  },
  {
   "cell_type": "code",
   "execution_count": 17,
   "metadata": {},
   "outputs": [
    {
     "name": "stdout",
     "output_type": "stream",
     "text": [
      "<class 'pandas.core.frame.DataFrame'>\n",
      "RangeIndex: 20640 entries, 0 to 20639\n",
      "Data columns (total 10 columns):\n",
      " #   Column              Non-Null Count  Dtype  \n",
      "---  ------              --------------  -----  \n",
      " 0   longitude           20640 non-null  float64\n",
      " 1   latitude            20640 non-null  float64\n",
      " 2   housing_median_age  20640 non-null  float64\n",
      " 3   total_rooms         20640 non-null  float64\n",
      " 4   total_bedrooms      20433 non-null  float64\n",
      " 5   population          20640 non-null  float64\n",
      " 6   households          20640 non-null  float64\n",
      " 7   median_income       20640 non-null  float64\n",
      " 8   median_house_value  20640 non-null  float64\n",
      " 9   ocean_proximity     20640 non-null  object \n",
      "dtypes: float64(9), object(1)\n",
      "memory usage: 1.6+ MB\n"
     ]
    }
   ],
   "source": [
    "housing = download_housing_data()\n",
    "housing.info()"
   ]
  },
  {
   "cell_type": "code",
   "execution_count": 18,
   "metadata": {},
   "outputs": [],
   "source": [
    "housing[\"income_cat\"] = pd.cut(housing[\"median_income\"],\n",
    "                               bins=[0., 1.5, 3.0, 4.5, 6., np.inf],\n",
    "                               labels=[1, 2, 3, 4, 5])\n",
    "\n",
    "strat_train_set, strat_test_set = train_test_split(\n",
    "    housing, test_size=0.2, stratify=housing[\"income_cat\"], random_state=42)\n",
    "\n",
    "for set_ in (strat_train_set, strat_test_set):\n",
    "    set_.drop(\"income_cat\", axis=1, inplace=True)\n",
    "\n",
    "housing = strat_train_set.drop(\"median_house_value\", axis=1)\n",
    "housing_labels = strat_train_set[\"median_house_value\"].copy()"
   ]
  },
  {
   "cell_type": "code",
   "execution_count": 20,
   "metadata": {},
   "outputs": [],
   "source": [
    "class ClusterSimilarity(BaseEstimator, TransformerMixin):\n",
    "    def __init__(self, n_clusters=10, gamma=1.0, random_state=None):\n",
    "        self.n_clusters = n_clusters\n",
    "        self.gamma = gamma\n",
    "        self.random_state = random_state\n",
    "\n",
    "    def fit(self, X, y=None, sample_weight=None):\n",
    "        self.kmeans_ = KMeans(self.n_clusters, n_init=10,\n",
    "                              random_state=self.random_state)\n",
    "        self.kmeans_.fit(X, sample_weight=sample_weight)\n",
    "        return self  # always return self!\n",
    "\n",
    "    def transform(self, X):\n",
    "        return rbf_kernel(X, self.kmeans_.cluster_centers_, gamma=self.gamma)\n",
    "    \n",
    "    def get_feature_names_out(self, names=None):\n",
    "        return [f\"Cluster {i} similarity\" for i in range(self.n_clusters)]"
   ]
  },
  {
   "cell_type": "code",
   "execution_count": 21,
   "metadata": {},
   "outputs": [],
   "source": [
    "def column_ratio(X):\n",
    "    return X[:, [0]] / X[:, [1]]\n",
    "\n",
    "def ratio_name(function_transformer, feature_names_in):\n",
    "    return [\"ratio\"]  # feature names out\n",
    "\n",
    "def ratio_pipeline():\n",
    "    return make_pipeline(\n",
    "        SimpleImputer(strategy=\"median\"),\n",
    "        FunctionTransformer(column_ratio, feature_names_out=ratio_name),\n",
    "        StandardScaler())\n",
    "\n",
    "log_pipeline = make_pipeline(\n",
    "    SimpleImputer(strategy=\"median\"),\n",
    "    FunctionTransformer(np.log, feature_names_out=\"one-to-one\"),\n",
    "    StandardScaler())\n",
    "cat_pipeline = make_pipeline(\n",
    "    SimpleImputer(strategy=\"most_frequent\"),\n",
    "    OneHotEncoder(handle_unknown=\"ignore\"))\n",
    "cluster_simil = ClusterSimilarity(n_clusters=10, gamma=1., random_state=42)\n",
    "default_num_pipeline = make_pipeline(SimpleImputer(strategy=\"median\"),\n",
    "                                     StandardScaler())\n",
    "preprocessing = ColumnTransformer([\n",
    "        (\"bedrooms\", ratio_pipeline(), [\"total_bedrooms\", \"total_rooms\"]),\n",
    "        (\"rooms_per_house\", ratio_pipeline(), [\"total_rooms\", \"households\"]),\n",
    "        (\"people_per_house\", ratio_pipeline(), [\"population\", \"households\"]),\n",
    "        (\"log\", log_pipeline, [\"total_bedrooms\", \"total_rooms\", \"population\",\n",
    "                               \"households\", \"median_income\"]),\n",
    "        (\"geo\", cluster_simil, [\"latitude\", \"longitude\"]),\n",
    "        (\"cat\", cat_pipeline, make_column_selector(dtype_include=object)),\n",
    "    ],\n",
    "    remainder=default_num_pipeline)  # one column remaining: housing_median_age"
   ]
  },
  {
   "cell_type": "code",
   "execution_count": 22,
   "metadata": {},
   "outputs": [
    {
     "data": {
      "text/plain": [
       "(16512, 24)"
      ]
     },
     "execution_count": 22,
     "metadata": {},
     "output_type": "execute_result"
    }
   ],
   "source": [
    "housing_prepared = preprocessing.fit_transform(housing)\n",
    "housing_prepared.shape"
   ]
  },
  {
   "cell_type": "code",
   "execution_count": 23,
   "metadata": {},
   "outputs": [
    {
     "data": {
      "text/plain": [
       "array(['bedrooms__ratio', 'rooms_per_house__ratio',\n",
       "       'people_per_house__ratio', 'log__total_bedrooms',\n",
       "       'log__total_rooms', 'log__population', 'log__households',\n",
       "       'log__median_income', 'geo__Cluster 0 similarity',\n",
       "       'geo__Cluster 1 similarity', 'geo__Cluster 2 similarity',\n",
       "       'geo__Cluster 3 similarity', 'geo__Cluster 4 similarity',\n",
       "       'geo__Cluster 5 similarity', 'geo__Cluster 6 similarity',\n",
       "       'geo__Cluster 7 similarity', 'geo__Cluster 8 similarity',\n",
       "       'geo__Cluster 9 similarity', 'cat__ocean_proximity_<1H OCEAN',\n",
       "       'cat__ocean_proximity_INLAND', 'cat__ocean_proximity_ISLAND',\n",
       "       'cat__ocean_proximity_NEAR BAY', 'cat__ocean_proximity_NEAR OCEAN',\n",
       "       'remainder__housing_median_age'], dtype=object)"
      ]
     },
     "execution_count": 23,
     "metadata": {},
     "output_type": "execute_result"
    }
   ],
   "source": [
    "preprocessing.get_feature_names_out()"
   ]
  },
  {
   "attachments": {},
   "cell_type": "markdown",
   "metadata": {},
   "source": [
    "Let's create a new pipeline that runs RandomizedSearchCV for the threshold so we can try to get a better result:"
   ]
  },
  {
   "cell_type": "code",
   "execution_count": 24,
   "metadata": {},
   "outputs": [
    {
     "name": "stdout",
     "output_type": "stream",
     "text": [
      "Fitting 3 folds for each of 50 candidates, totalling 150 fits\n",
      "[CV] END selector__threshold=0.018727005942368126, svr__C=127024.42021281396, svr__gamma=1.3167456935454493, svr__kernel=linear; total time=   5.9s\n",
      "[CV] END selector__threshold=0.018727005942368126, svr__C=127024.42021281396, svr__gamma=1.3167456935454493, svr__kernel=linear; total time=   6.1s\n",
      "[CV] END selector__threshold=0.018727005942368126, svr__C=127024.42021281396, svr__gamma=1.3167456935454493, svr__kernel=linear; total time=   6.4s\n",
      "[CV] END selector__threshold=0.02984250789732435, svr__C=1214.3978986882596, svr__gamma=0.10533264473289401, svr__kernel=linear; total time=   5.6s\n",
      "[CV] END selector__threshold=0.02984250789732435, svr__C=1214.3978986882596, svr__gamma=0.10533264473289401, svr__kernel=linear; total time=   5.7s\n",
      "[CV] END selector__threshold=0.02984250789732435, svr__C=1214.3978986882596, svr__gamma=0.10533264473289401, svr__kernel=linear; total time=   5.6s\n",
      "[CV] END selector__threshold=0.04330880728874676, svr__C=5075.631016531331, svr__gamma=1.2312500617045903, svr__kernel=rbf; total time=   5.7s\n",
      "[CV] END selector__threshold=0.04330880728874676, svr__C=5075.631016531331, svr__gamma=1.2312500617045903, svr__kernel=rbf; total time=   5.7s\n",
      "[CV] END selector__threshold=0.04330880728874676, svr__C=5075.631016531331, svr__gamma=1.2312500617045903, svr__kernel=rbf; total time=   5.8s\n",
      "[CV] END selector__threshold=0.002820578951355013, svr__C=15453.436955926874, svr__gamma=2.789575528819812, svr__kernel=rbf; total time=   6.0s\n",
      "[CV] END selector__threshold=0.002820578951355013, svr__C=15453.436955926874, svr__gamma=2.789575528819812, svr__kernel=rbf; total time=   6.1s\n",
      "[CV] END selector__threshold=0.002820578951355013, svr__C=15453.436955926874, svr__gamma=2.789575528819812, svr__kernel=rbf; total time=   6.0s\n",
      "[CV] END selector__threshold=0.009091248360355032, svr__C=108.30488238805071, svr__gamma=0.3627537294604771, svr__kernel=rbf; total time=   5.8s\n",
      "[CV] END selector__threshold=0.009091248360355032, svr__C=108.30488238805071, svr__gamma=0.3627537294604771, svr__kernel=rbf; total time=   5.9s\n",
      "[CV] END selector__threshold=0.009091248360355032, svr__C=108.30488238805071, svr__gamma=0.3627537294604771, svr__kernel=rbf; total time=   6.0s\n",
      "[CV] END selector__threshold=0.0003533152609858703, svr__C=24.73316506026165, svr__gamma=0.7439661879833189, svr__kernel=linear; total time=   5.6s\n",
      "[CV] END selector__threshold=0.0003533152609858703, svr__C=24.73316506026165, svr__gamma=0.7439661879833189, svr__kernel=linear; total time=   5.7s\n",
      "[CV] END selector__threshold=0.0003533152609858703, svr__C=24.73316506026165, svr__gamma=0.7439661879833189, svr__kernel=linear; total time=   5.8s\n",
      "[CV] END selector__threshold=0.006974693032602092, svr__C=294.85506319829346, svr__gamma=0.45627721822084705, svr__kernel=rbf; total time=   5.9s\n",
      "[CV] END selector__threshold=0.006974693032602092, svr__C=294.85506319829346, svr__gamma=0.45627721822084705, svr__kernel=rbf; total time=   6.0s\n",
      "[CV] END selector__threshold=0.006974693032602092, svr__C=294.85506319829346, svr__gamma=0.45627721822084705, svr__kernel=rbf; total time=   6.0s\n",
      "[CV] END selector__threshold=0.00453032172664104, svr__C=5950.781894698775, svr__gamma=0.48201465977050356, svr__kernel=rbf; total time=   5.9s\n",
      "[CV] END selector__threshold=0.00453032172664104, svr__C=5950.781894698775, svr__gamma=0.48201465977050356, svr__kernel=rbf; total time=   6.0s\n",
      "[CV] END selector__threshold=0.00453032172664104, svr__C=5950.781894698775, svr__gamma=0.48201465977050356, svr__kernel=rbf; total time=   6.0s\n",
      "[CV] END selector__threshold=0.029620728443102123, svr__C=30.67832518232724, svr__gamma=0.9353330206496101, svr__kernel=linear; total time=   5.6s\n",
      "[CV] END selector__threshold=0.029620728443102123, svr__C=30.67832518232724, svr__gamma=0.9353330206496101, svr__kernel=linear; total time=   5.7s\n",
      "[CV] END selector__threshold=0.029620728443102123, svr__C=30.67832518232724, svr__gamma=0.9353330206496101, svr__kernel=linear; total time=   5.6s\n",
      "[CV] END selector__threshold=0.022524962598477152, svr__C=22.599032166213227, svr__gamma=2.850796878935603, svr__kernel=rbf; total time=   5.8s\n",
      "[CV] END selector__threshold=0.022524962598477152, svr__C=22.599032166213227, svr__gamma=2.850796878935603, svr__kernel=rbf; total time=   5.7s\n",
      "[CV] END selector__threshold=0.022524962598477152, svr__C=22.599032166213227, svr__gamma=2.850796878935603, svr__kernel=rbf; total time=   5.1s\n",
      "[CV] END selector__threshold=0.04041986740582306, svr__C=330.7387436564884, svr__gamma=0.10277731500250624, svr__kernel=rbf; total time=   5.7s\n",
      "[CV] END selector__threshold=0.04041986740582306, svr__C=330.7387436564884, svr__gamma=0.10277731500250624, svr__kernel=rbf; total time=   5.9s\n",
      "[CV] END selector__threshold=0.04041986740582306, svr__C=330.7387436564884, svr__gamma=0.10277731500250624, svr__kernel=rbf; total time=   6.0s\n",
      "[CV] END selector__threshold=0.012051273301300586, svr__C=10816.433161436993, svr__gamma=0.9415999701070139, svr__kernel=rbf; total time=   5.9s\n",
      "[CV] END selector__threshold=0.012051273301300586, svr__C=10816.433161436993, svr__gamma=0.9415999701070139, svr__kernel=rbf; total time=   6.0s\n",
      "[CV] END selector__threshold=0.012051273301300586, svr__C=10816.433161436993, svr__gamma=0.9415999701070139, svr__kernel=rbf; total time=   5.9s\n",
      "[CV] END selector__threshold=0.0017194260557609198, svr__C=86758.41394981877, svr__gamma=0.2994577768406861, svr__kernel=rbf; total time=   6.5s\n",
      "[CV] END selector__threshold=0.0017194260557609198, svr__C=86758.41394981877, svr__gamma=0.2994577768406861, svr__kernel=rbf; total time=   6.6s\n",
      "[CV] END selector__threshold=0.0017194260557609198, svr__C=86758.41394981877, svr__gamma=0.2994577768406861, svr__kernel=rbf; total time=   6.5s\n",
      "[CV] END selector__threshold=0.03776807051588263, svr__C=1003.8145667922631, svr__gamma=0.233120231885617, svr__kernel=rbf; total time=   5.6s\n",
      "[CV] END selector__threshold=0.03776807051588263, svr__C=1003.8145667922631, svr__gamma=0.233120231885617, svr__kernel=rbf; total time=   5.3s\n",
      "[CV] END selector__threshold=0.03776807051588263, svr__C=1003.8145667922631, svr__gamma=0.233120231885617, svr__kernel=rbf; total time=   5.1s\n",
      "[CV] END selector__threshold=0.009242722776276352, svr__C=151136.20282548846, svr__gamma=1.4922453771381408, svr__kernel=rbf; total time=   6.6s\n",
      "[CV] END selector__threshold=0.009242722776276352, svr__C=151136.20282548846, svr__gamma=1.4922453771381408, svr__kernel=rbf; total time=   6.7s\n",
      "[CV] END selector__threshold=0.009242722776276352, svr__C=151136.20282548846, svr__gamma=1.4922453771381408, svr__kernel=rbf; total time=   6.8s\n",
      "[CV] END selector__threshold=0.01975751180009072, svr__C=101780.7059568142, svr__gamma=1.2992803022740669, svr__kernel=linear; total time=   6.1s\n",
      "[CV] END selector__threshold=0.01975751180009072, svr__C=101780.7059568142, svr__gamma=1.2992803022740669, svr__kernel=linear; total time=   5.3s\n",
      "[CV] END selector__threshold=0.01975751180009072, svr__C=101780.7059568142, svr__gamma=1.2992803022740669, svr__kernel=linear; total time=   5.4s\n",
      "[CV] END selector__threshold=0.004424625102595975, svr__C=121.60780380593194, svr__gamma=0.046281965686831954, svr__kernel=rbf; total time=   5.3s\n",
      "[CV] END selector__threshold=0.004424625102595975, svr__C=121.60780380593194, svr__gamma=0.046281965686831954, svr__kernel=rbf; total time=   5.3s\n",
      "[CV] END selector__threshold=0.004424625102595975, svr__C=121.60780380593194, svr__gamma=0.046281965686831954, svr__kernel=rbf; total time=   5.3s\n",
      "[CV] END selector__threshold=0.04222669243390757, svr__C=19512.388582349147, svr__gamma=0.7758597359502013, svr__kernel=rbf; total time=   5.1s\n",
      "[CV] END selector__threshold=0.04222669243390757, svr__C=19512.388582349147, svr__gamma=0.7758597359502013, svr__kernel=rbf; total time=   5.1s\n",
      "[CV] END selector__threshold=0.04222669243390757, svr__C=19512.388582349147, svr__gamma=0.7758597359502013, svr__kernel=rbf; total time=   5.3s\n",
      "[CV] END selector__threshold=0.017837666334679463, svr__C=265.93042914599016, svr__gamma=0.782407083207746, svr__kernel=linear; total time=   5.0s\n",
      "[CV] END selector__threshold=0.017837666334679463, svr__C=265.93042914599016, svr__gamma=0.782407083207746, svr__kernel=linear; total time=   5.0s\n",
      "[CV] END selector__threshold=0.017837666334679463, svr__C=265.93042914599016, svr__gamma=0.782407083207746, svr__kernel=linear; total time=   5.0s\n",
      "[CV] END selector__threshold=0.01481367528520412, svr__C=91.64267381686706, svr__gamma=0.01575994483585621, svr__kernel=linear; total time=   4.9s\n",
      "[CV] END selector__threshold=0.01481367528520412, svr__C=91.64267381686706, svr__gamma=0.01575994483585621, svr__kernel=linear; total time=   5.1s\n",
      "[CV] END selector__threshold=0.01481367528520412, svr__C=91.64267381686706, svr__gamma=0.01575994483585621, svr__kernel=linear; total time=   5.1s\n",
      "[CV] END selector__threshold=0.038612238464832874, svr__C=124.70754271346311, svr__gamma=0.005537420375935475, svr__kernel=linear; total time=   4.9s\n",
      "[CV] END selector__threshold=0.038612238464832874, svr__C=124.70754271346311, svr__gamma=0.005537420375935475, svr__kernel=linear; total time=   5.7s\n",
      "[CV] END selector__threshold=0.038612238464832874, svr__C=124.70754271346311, svr__gamma=0.005537420375935475, svr__kernel=linear; total time=   5.6s\n",
      "[CV] END selector__threshold=0.009942120204440259, svr__C=14008.699090460112, svr__gamma=1.5614840051214403, svr__kernel=linear; total time=   5.8s\n",
      "[CV] END selector__threshold=0.009942120204440259, svr__C=14008.699090460112, svr__gamma=1.5614840051214403, svr__kernel=linear; total time=   5.5s\n",
      "[CV] END selector__threshold=0.009942120204440259, svr__C=14008.699090460112, svr__gamma=1.5614840051214403, svr__kernel=linear; total time=   5.3s\n",
      "[CV] END selector__threshold=0.003702232586704518, svr__C=543.1163910565876, svr__gamma=0.12315010460444965, svr__kernel=linear; total time=   5.0s\n",
      "[CV] END selector__threshold=0.003702232586704518, svr__C=543.1163910565876, svr__gamma=0.12315010460444965, svr__kernel=linear; total time=   5.0s\n",
      "[CV] END selector__threshold=0.003702232586704518, svr__C=543.1163910565876, svr__gamma=0.12315010460444965, svr__kernel=linear; total time=   5.0s\n",
      "[CV] END selector__threshold=0.04250192888948997, svr__C=1255.5461833916102, svr__gamma=0.10027360538630499, svr__kernel=linear; total time=   4.9s\n",
      "[CV] END selector__threshold=0.04250192888948997, svr__C=1255.5461833916102, svr__gamma=0.10027360538630499, svr__kernel=linear; total time=   5.0s\n",
      "[CV] END selector__threshold=0.04250192888948997, svr__C=1255.5461833916102, svr__gamma=0.10027360538630499, svr__kernel=linear; total time=   4.9s\n",
      "[CV] END selector__threshold=0.015549116085783111, svr__C=399.7268155705776, svr__gamma=1.3078757839577408, svr__kernel=rbf; total time=   5.3s\n",
      "[CV] END selector__threshold=0.015549116085783111, svr__C=399.7268155705776, svr__gamma=1.3078757839577408, svr__kernel=rbf; total time=   5.2s\n",
      "[CV] END selector__threshold=0.015549116085783111, svr__C=399.7268155705776, svr__gamma=1.3078757839577408, svr__kernel=rbf; total time=   5.2s\n",
      "[CV] END selector__threshold=0.013736089649503208, svr__C=3515.63434917871, svr__gamma=0.4827677446825112, svr__kernel=linear; total time=   5.0s\n",
      "[CV] END selector__threshold=0.013736089649503208, svr__C=3515.63434917871, svr__gamma=0.4827677446825112, svr__kernel=linear; total time=   5.6s\n",
      "[CV] END selector__threshold=0.013736089649503208, svr__C=3515.63434917871, svr__gamma=0.4827677446825112, svr__kernel=linear; total time=   5.8s\n",
      "[CV] END selector__threshold=0.035662239361149754, svr__C=22088.701694249394, svr__gamma=0.8238874948858288, svr__kernel=linear; total time=   5.4s\n",
      "[CV] END selector__threshold=0.035662239361149754, svr__C=22088.701694249394, svr__gamma=0.8238874948858288, svr__kernel=linear; total time=   5.0s\n",
      "[CV] END selector__threshold=0.035662239361149754, svr__C=22088.701694249394, svr__gamma=0.8238874948858288, svr__kernel=linear; total time=   4.9s\n",
      "[CV] END selector__threshold=0.012803416138066199, svr__C=29.024473725786336, svr__gamma=1.2401627989937203, svr__kernel=rbf; total time=   5.1s\n",
      "[CV] END selector__threshold=0.012803416138066199, svr__C=29.024473725786336, svr__gamma=1.2401627989937203, svr__kernel=rbf; total time=   5.2s\n",
      "[CV] END selector__threshold=0.012803416138066199, svr__C=29.024473725786336, svr__gamma=1.2401627989937203, svr__kernel=rbf; total time=   5.2s\n",
      "[CV] END selector__threshold=0.0012709563372047595, svr__C=54.025115450878126, svr__gamma=0.03193368129305382, svr__kernel=linear; total time=   5.0s\n",
      "[CV] END selector__threshold=0.0012709563372047595, svr__C=54.025115450878126, svr__gamma=0.03193368129305382, svr__kernel=linear; total time=   5.1s\n",
      "[CV] END selector__threshold=0.0012709563372047595, svr__C=54.025115450878126, svr__gamma=0.03193368129305382, svr__kernel=linear; total time=   5.0s\n",
      "[CV] END selector__threshold=0.02376851115910559, svr__C=3582.05527804896, svr__gamma=1.1891370222133257, svr__kernel=linear; total time=   4.9s\n",
      "[CV] END selector__threshold=0.02376851115910559, svr__C=3582.05527804896, svr__gamma=1.1891370222133257, svr__kernel=linear; total time=   5.0s\n",
      "[CV] END selector__threshold=0.02376851115910559, svr__C=3582.05527804896, svr__gamma=1.1891370222133257, svr__kernel=linear; total time=   4.9s\n",
      "[CV] END selector__threshold=0.012464611457443748, svr__C=876.1161535811306, svr__gamma=1.4087491475385834, svr__kernel=rbf; total time=   5.3s\n",
      "[CV] END selector__threshold=0.012464611457443748, svr__C=876.1161535811306, svr__gamma=1.4087491475385834, svr__kernel=rbf; total time=   5.4s\n",
      "[CV] END selector__threshold=0.012464611457443748, svr__C=876.1161535811306, svr__gamma=1.4087491475385834, svr__kernel=rbf; total time=   5.2s\n",
      "[CV] END selector__threshold=0.04714267852789905, svr__C=4971.550572918415, svr__gamma=1.1867386132926785, svr__kernel=rbf; total time=   5.1s\n",
      "[CV] END selector__threshold=0.04714267852789905, svr__C=4971.550572918415, svr__gamma=1.1867386132926785, svr__kernel=rbf; total time=   5.2s\n",
      "[CV] END selector__threshold=0.04714267852789905, svr__C=4971.550572918415, svr__gamma=1.1867386132926785, svr__kernel=rbf; total time=   5.1s\n",
      "[CV] END selector__threshold=0.04648488261712866, svr__C=34159.50068591647, svr__gamma=1.003494190520531, svr__kernel=rbf; total time=   5.1s\n",
      "[CV] END selector__threshold=0.04648488261712866, svr__C=34159.50068591647, svr__gamma=1.003494190520531, svr__kernel=rbf; total time=   5.3s\n",
      "[CV] END selector__threshold=0.04648488261712866, svr__C=34159.50068591647, svr__gamma=1.003494190520531, svr__kernel=rbf; total time=   5.1s\n",
      "[CV] END selector__threshold=0.022826728524145513, svr__C=149.5518344286938, svr__gamma=0.5387278760218775, svr__kernel=rbf; total time=   5.1s\n",
      "[CV] END selector__threshold=0.022826728524145513, svr__C=149.5518344286938, svr__gamma=0.5387278760218775, svr__kernel=rbf; total time=   5.2s\n",
      "[CV] END selector__threshold=0.022826728524145513, svr__C=149.5518344286938, svr__gamma=0.5387278760218775, svr__kernel=rbf; total time=   5.1s\n",
      "[CV] END selector__threshold=0.026967112095782536, svr__C=33946.15706493403, svr__gamma=2.2642426492862313, svr__kernel=linear; total time=   4.9s\n",
      "[CV] END selector__threshold=0.026967112095782536, svr__C=33946.15706493403, svr__gamma=2.2642426492862313, svr__kernel=linear; total time=   5.2s\n",
      "[CV] END selector__threshold=0.026967112095782536, svr__C=33946.15706493403, svr__gamma=2.2642426492862313, svr__kernel=linear; total time=   5.0s\n",
      "[CV] END selector__threshold=0.0453414220772877, svr__C=245.22175327378622, svr__gamma=1.0432441512843442, svr__kernel=linear; total time=   4.8s\n",
      "[CV] END selector__threshold=0.0453414220772877, svr__C=245.22175327378622, svr__gamma=1.0432441512843442, svr__kernel=linear; total time=   4.9s\n",
      "[CV] END selector__threshold=0.0453414220772877, svr__C=245.22175327378622, svr__gamma=1.0432441512843442, svr__kernel=linear; total time=   4.9s\n",
      "[CV] END selector__threshold=0.04090073829612466, svr__C=55456.48365602121, svr__gamma=0.006976409181650647, svr__kernel=rbf; total time=   5.1s\n",
      "[CV] END selector__threshold=0.04090073829612466, svr__C=55456.48365602121, svr__gamma=0.006976409181650647, svr__kernel=rbf; total time=   5.3s\n",
      "[CV] END selector__threshold=0.04090073829612466, svr__C=55456.48365602121, svr__gamma=0.006976409181650647, svr__kernel=rbf; total time=   5.2s\n",
      "[CV] END selector__threshold=0.026704470968772098, svr__C=1739.201419081245, svr__gamma=1.1790721902483017, svr__kernel=rbf; total time=   5.0s\n",
      "[CV] END selector__threshold=0.026704470968772098, svr__C=1739.201419081245, svr__gamma=1.1790721902483017, svr__kernel=rbf; total time=   5.2s\n",
      "[CV] END selector__threshold=0.026704470968772098, svr__C=1739.201419081245, svr__gamma=1.1790721902483017, svr__kernel=rbf; total time=   5.1s\n",
      "[CV] END selector__threshold=0.016880758570181398, svr__C=118213.97238177081, svr__gamma=0.3903838028814744, svr__kernel=rbf; total time=   5.3s\n",
      "[CV] END selector__threshold=0.016880758570181398, svr__C=118213.97238177081, svr__gamma=0.3903838028814744, svr__kernel=rbf; total time=   5.7s\n",
      "[CV] END selector__threshold=0.016880758570181398, svr__C=118213.97238177081, svr__gamma=0.3903838028814744, svr__kernel=rbf; total time=   5.6s\n",
      "[CV] END selector__threshold=0.02790510010086706, svr__C=824.8494324144852, svr__gamma=0.06709351259978942, svr__kernel=rbf; total time=   5.1s\n",
      "[CV] END selector__threshold=0.02790510010086706, svr__C=824.8494324144852, svr__gamma=0.06709351259978942, svr__kernel=rbf; total time=   5.1s\n",
      "[CV] END selector__threshold=0.02790510010086706, svr__C=824.8494324144852, svr__gamma=0.06709351259978942, svr__kernel=rbf; total time=   5.1s\n",
      "[CV] END selector__threshold=0.048122364747105566, svr__C=203.31020532837456, svr__gamma=0.6876592784638472, svr__kernel=linear; total time=   4.9s\n",
      "[CV] END selector__threshold=0.048122364747105566, svr__C=203.31020532837456, svr__gamma=0.6876592784638472, svr__kernel=linear; total time=   5.0s\n",
      "[CV] END selector__threshold=0.048122364747105566, svr__C=203.31020532837456, svr__gamma=0.6876592784638472, svr__kernel=linear; total time=   5.0s\n",
      "[CV] END selector__threshold=0.007404346497669995, svr__C=195880.83012927117, svr__gamma=0.3103108690191677, svr__kernel=rbf; total time=   7.0s\n",
      "[CV] END selector__threshold=0.007404346497669995, svr__C=195880.83012927117, svr__gamma=0.3103108690191677, svr__kernel=rbf; total time=   7.4s\n",
      "[CV] END selector__threshold=0.007404346497669995, svr__C=195880.83012927117, svr__gamma=0.3103108690191677, svr__kernel=rbf; total time=   7.5s\n",
      "[CV] END selector__threshold=0.025133951161443076, svr__C=32.13253584345542, svr__gamma=0.32662592101036936, svr__kernel=linear; total time=   5.0s\n",
      "[CV] END selector__threshold=0.025133951161443076, svr__C=32.13253584345542, svr__gamma=0.32662592101036936, svr__kernel=linear; total time=   5.1s\n",
      "[CV] END selector__threshold=0.025133951161443076, svr__C=32.13253584345542, svr__gamma=0.32662592101036936, svr__kernel=linear; total time=   5.1s\n",
      "[CV] END selector__threshold=0.03171756723506819, svr__C=10564.569436244974, svr__gamma=0.7570130390623202, svr__kernel=rbf; total time=   5.8s\n",
      "[CV] END selector__threshold=0.03171756723506819, svr__C=10564.569436244974, svr__gamma=0.7570130390623202, svr__kernel=rbf; total time=   5.8s\n",
      "[CV] END selector__threshold=0.03171756723506819, svr__C=10564.569436244974, svr__gamma=0.7570130390623202, svr__kernel=rbf; total time=   5.7s\n",
      "[CV] END selector__threshold=0.04928252270553004, svr__C=185.88788311289977, svr__gamma=1.1151550102972934, svr__kernel=linear; total time=   5.5s\n",
      "[CV] END selector__threshold=0.04928252270553004, svr__C=185.88788311289977, svr__gamma=1.1151550102972934, svr__kernel=linear; total time=   5.6s\n",
      "[CV] END selector__threshold=0.04928252270553004, svr__C=185.88788311289977, svr__gamma=1.1151550102972934, svr__kernel=linear; total time=   5.4s\n",
      "[CV] END selector__threshold=0.018482722803070225, svr__C=186.06716850992987, svr__gamma=1.6252612252521, svr__kernel=linear; total time=   5.4s\n",
      "[CV] END selector__threshold=0.018482722803070225, svr__C=186.06716850992987, svr__gamma=1.6252612252521, svr__kernel=linear; total time=   5.8s\n",
      "[CV] END selector__threshold=0.018482722803070225, svr__C=186.06716850992987, svr__gamma=1.6252612252521, svr__kernel=linear; total time=   5.5s\n",
      "[CV] END selector__threshold=0.03161529152967898, svr__C=6841.460734018447, svr__gamma=0.7673852499523488, svr__kernel=rbf; total time=   5.7s\n",
      "[CV] END selector__threshold=0.03161529152967898, svr__C=6841.460734018447, svr__gamma=0.7673852499523488, svr__kernel=rbf; total time=   5.7s\n",
      "[CV] END selector__threshold=0.03161529152967898, svr__C=6841.460734018447, svr__gamma=0.7673852499523488, svr__kernel=rbf; total time=   5.7s\n",
      "[CV] END selector__threshold=0.03991725624922756, svr__C=80.1493807994246, svr__gamma=0.7096806618926841, svr__kernel=rbf; total time=   5.7s\n",
      "[CV] END selector__threshold=0.03991725624922756, svr__C=80.1493807994246, svr__gamma=0.7096806618926841, svr__kernel=rbf; total time=   5.8s\n",
      "[CV] END selector__threshold=0.03991725624922756, svr__C=80.1493807994246, svr__gamma=0.7096806618926841, svr__kernel=rbf; total time=   5.7s\n",
      "[CV] END selector__threshold=0.002038757077738196, svr__C=4619.57229853871, svr__gamma=1.1318517342673489, svr__kernel=linear; total time=   5.9s\n",
      "[CV] END selector__threshold=0.002038757077738196, svr__C=4619.57229853871, svr__gamma=1.1318517342673489, svr__kernel=linear; total time=   5.3s\n",
      "[CV] END selector__threshold=0.002038757077738196, svr__C=4619.57229853871, svr__gamma=1.1318517342673489, svr__kernel=linear; total time=   5.0s\n",
      "[CV] END selector__threshold=0.03555747662190089, svr__C=34596.66053199814, svr__gamma=0.42873269199544656, svr__kernel=linear; total time=   4.9s\n",
      "[CV] END selector__threshold=0.03555747662190089, svr__C=34596.66053199814, svr__gamma=0.42873269199544656, svr__kernel=linear; total time=   5.0s\n",
      "[CV] END selector__threshold=0.03555747662190089, svr__C=34596.66053199814, svr__gamma=0.42873269199544656, svr__kernel=linear; total time=   5.0s\n"
     ]
    },
    {
     "data": {
      "text/html": [
       "<style>#sk-container-id-3 {color: black;}#sk-container-id-3 pre{padding: 0;}#sk-container-id-3 div.sk-toggleable {background-color: white;}#sk-container-id-3 label.sk-toggleable__label {cursor: pointer;display: block;width: 100%;margin-bottom: 0;padding: 0.3em;box-sizing: border-box;text-align: center;}#sk-container-id-3 label.sk-toggleable__label-arrow:before {content: \"▸\";float: left;margin-right: 0.25em;color: #696969;}#sk-container-id-3 label.sk-toggleable__label-arrow:hover:before {color: black;}#sk-container-id-3 div.sk-estimator:hover label.sk-toggleable__label-arrow:before {color: black;}#sk-container-id-3 div.sk-toggleable__content {max-height: 0;max-width: 0;overflow: hidden;text-align: left;background-color: #f0f8ff;}#sk-container-id-3 div.sk-toggleable__content pre {margin: 0.2em;color: black;border-radius: 0.25em;background-color: #f0f8ff;}#sk-container-id-3 input.sk-toggleable__control:checked~div.sk-toggleable__content {max-height: 200px;max-width: 100%;overflow: auto;}#sk-container-id-3 input.sk-toggleable__control:checked~label.sk-toggleable__label-arrow:before {content: \"▾\";}#sk-container-id-3 div.sk-estimator input.sk-toggleable__control:checked~label.sk-toggleable__label {background-color: #d4ebff;}#sk-container-id-3 div.sk-label input.sk-toggleable__control:checked~label.sk-toggleable__label {background-color: #d4ebff;}#sk-container-id-3 input.sk-hidden--visually {border: 0;clip: rect(1px 1px 1px 1px);clip: rect(1px, 1px, 1px, 1px);height: 1px;margin: -1px;overflow: hidden;padding: 0;position: absolute;width: 1px;}#sk-container-id-3 div.sk-estimator {font-family: monospace;background-color: #f0f8ff;border: 1px dotted black;border-radius: 0.25em;box-sizing: border-box;margin-bottom: 0.5em;}#sk-container-id-3 div.sk-estimator:hover {background-color: #d4ebff;}#sk-container-id-3 div.sk-parallel-item::after {content: \"\";width: 100%;border-bottom: 1px solid gray;flex-grow: 1;}#sk-container-id-3 div.sk-label:hover label.sk-toggleable__label {background-color: #d4ebff;}#sk-container-id-3 div.sk-serial::before {content: \"\";position: absolute;border-left: 1px solid gray;box-sizing: border-box;top: 0;bottom: 0;left: 50%;z-index: 0;}#sk-container-id-3 div.sk-serial {display: flex;flex-direction: column;align-items: center;background-color: white;padding-right: 0.2em;padding-left: 0.2em;position: relative;}#sk-container-id-3 div.sk-item {position: relative;z-index: 1;}#sk-container-id-3 div.sk-parallel {display: flex;align-items: stretch;justify-content: center;background-color: white;position: relative;}#sk-container-id-3 div.sk-item::before, #sk-container-id-3 div.sk-parallel-item::before {content: \"\";position: absolute;border-left: 1px solid gray;box-sizing: border-box;top: 0;bottom: 0;left: 50%;z-index: -1;}#sk-container-id-3 div.sk-parallel-item {display: flex;flex-direction: column;z-index: 1;position: relative;background-color: white;}#sk-container-id-3 div.sk-parallel-item:first-child::after {align-self: flex-end;width: 50%;}#sk-container-id-3 div.sk-parallel-item:last-child::after {align-self: flex-start;width: 50%;}#sk-container-id-3 div.sk-parallel-item:only-child::after {width: 0;}#sk-container-id-3 div.sk-dashed-wrapped {border: 1px dashed gray;margin: 0 0.4em 0.5em 0.4em;box-sizing: border-box;padding-bottom: 0.4em;background-color: white;}#sk-container-id-3 div.sk-label label {font-family: monospace;font-weight: bold;display: inline-block;line-height: 1.2em;}#sk-container-id-3 div.sk-label-container {text-align: center;}#sk-container-id-3 div.sk-container {/* jupyter's `normalize.less` sets `[hidden] { display: none; }` but bootstrap.min.css set `[hidden] { display: none !important; }` so we also need the `!important` here to be able to override the default hidden behavior on the sphinx rendered scikit-learn.org. See: https://github.com/scikit-learn/scikit-learn/issues/21755 */display: inline-block !important;position: relative;}#sk-container-id-3 div.sk-text-repr-fallback {display: none;}</style><div id=\"sk-container-id-3\" class=\"sk-top-container\"><div class=\"sk-text-repr-fallback\"><pre>Pipeline(steps=[(&#x27;preprocessing&#x27;,\n",
       "                 ColumnTransformer(remainder=Pipeline(steps=[(&#x27;simpleimputer&#x27;,\n",
       "                                                              SimpleImputer(strategy=&#x27;median&#x27;)),\n",
       "                                                             (&#x27;standardscaler&#x27;,\n",
       "                                                              StandardScaler())]),\n",
       "                                   transformers=[(&#x27;bedrooms&#x27;,\n",
       "                                                  Pipeline(steps=[(&#x27;simpleimputer&#x27;,\n",
       "                                                                   SimpleImputer(strategy=&#x27;median&#x27;)),\n",
       "                                                                  (&#x27;functiontransformer&#x27;,\n",
       "                                                                   FunctionTransformer(feature_names_out=&lt;function ratio_name at 0x7af9f5a...\n",
       "                                                                   SimpleImputer(strategy=&#x27;most_frequent&#x27;)),\n",
       "                                                                  (&#x27;onehotencoder&#x27;,\n",
       "                                                                   OneHotEncoder(handle_unknown=&#x27;ignore&#x27;))]),\n",
       "                                                  &lt;sklearn.compose._column_transformer.make_column_selector object at 0x7af9f5af0580&gt;)])),\n",
       "                (&#x27;selector&#x27;,\n",
       "                 SelectFromModel(estimator=RandomForestRegressor(random_state=42),\n",
       "                                 threshold=0.007404346497669995)),\n",
       "                (&#x27;svr&#x27;, SVR(C=195880.83012927117, gamma=0.3103108690191677))])</pre><b>In a Jupyter environment, please rerun this cell to show the HTML representation or trust the notebook. <br />On GitHub, the HTML representation is unable to render, please try loading this page with nbviewer.org.</b></div><div class=\"sk-container\" hidden><div class=\"sk-item sk-dashed-wrapped\"><div class=\"sk-label-container\"><div class=\"sk-label sk-toggleable\"><input class=\"sk-toggleable__control sk-hidden--visually\" id=\"sk-estimator-id-61\" type=\"checkbox\" ><label for=\"sk-estimator-id-61\" class=\"sk-toggleable__label sk-toggleable__label-arrow\">Pipeline</label><div class=\"sk-toggleable__content\"><pre>Pipeline(steps=[(&#x27;preprocessing&#x27;,\n",
       "                 ColumnTransformer(remainder=Pipeline(steps=[(&#x27;simpleimputer&#x27;,\n",
       "                                                              SimpleImputer(strategy=&#x27;median&#x27;)),\n",
       "                                                             (&#x27;standardscaler&#x27;,\n",
       "                                                              StandardScaler())]),\n",
       "                                   transformers=[(&#x27;bedrooms&#x27;,\n",
       "                                                  Pipeline(steps=[(&#x27;simpleimputer&#x27;,\n",
       "                                                                   SimpleImputer(strategy=&#x27;median&#x27;)),\n",
       "                                                                  (&#x27;functiontransformer&#x27;,\n",
       "                                                                   FunctionTransformer(feature_names_out=&lt;function ratio_name at 0x7af9f5a...\n",
       "                                                                   SimpleImputer(strategy=&#x27;most_frequent&#x27;)),\n",
       "                                                                  (&#x27;onehotencoder&#x27;,\n",
       "                                                                   OneHotEncoder(handle_unknown=&#x27;ignore&#x27;))]),\n",
       "                                                  &lt;sklearn.compose._column_transformer.make_column_selector object at 0x7af9f5af0580&gt;)])),\n",
       "                (&#x27;selector&#x27;,\n",
       "                 SelectFromModel(estimator=RandomForestRegressor(random_state=42),\n",
       "                                 threshold=0.007404346497669995)),\n",
       "                (&#x27;svr&#x27;, SVR(C=195880.83012927117, gamma=0.3103108690191677))])</pre></div></div></div><div class=\"sk-serial\"><div class=\"sk-item sk-dashed-wrapped\"><div class=\"sk-label-container\"><div class=\"sk-label sk-toggleable\"><input class=\"sk-toggleable__control sk-hidden--visually\" id=\"sk-estimator-id-62\" type=\"checkbox\" ><label for=\"sk-estimator-id-62\" class=\"sk-toggleable__label sk-toggleable__label-arrow\">preprocessing: ColumnTransformer</label><div class=\"sk-toggleable__content\"><pre>ColumnTransformer(remainder=Pipeline(steps=[(&#x27;simpleimputer&#x27;,\n",
       "                                             SimpleImputer(strategy=&#x27;median&#x27;)),\n",
       "                                            (&#x27;standardscaler&#x27;,\n",
       "                                             StandardScaler())]),\n",
       "                  transformers=[(&#x27;bedrooms&#x27;,\n",
       "                                 Pipeline(steps=[(&#x27;simpleimputer&#x27;,\n",
       "                                                  SimpleImputer(strategy=&#x27;median&#x27;)),\n",
       "                                                 (&#x27;functiontransformer&#x27;,\n",
       "                                                  FunctionTransformer(feature_names_out=&lt;function ratio_name at 0x7af9f5aad7e0&gt;,\n",
       "                                                                      func=&lt;function column_ratio...\n",
       "                                 [&#x27;total_bedrooms&#x27;, &#x27;total_rooms&#x27;, &#x27;population&#x27;,\n",
       "                                  &#x27;households&#x27;, &#x27;median_income&#x27;]),\n",
       "                                (&#x27;geo&#x27;, ClusterSimilarity(random_state=42),\n",
       "                                 [&#x27;latitude&#x27;, &#x27;longitude&#x27;]),\n",
       "                                (&#x27;cat&#x27;,\n",
       "                                 Pipeline(steps=[(&#x27;simpleimputer&#x27;,\n",
       "                                                  SimpleImputer(strategy=&#x27;most_frequent&#x27;)),\n",
       "                                                 (&#x27;onehotencoder&#x27;,\n",
       "                                                  OneHotEncoder(handle_unknown=&#x27;ignore&#x27;))]),\n",
       "                                 &lt;sklearn.compose._column_transformer.make_column_selector object at 0x7af9f5af0580&gt;)])</pre></div></div></div><div class=\"sk-parallel\"><div class=\"sk-parallel-item\"><div class=\"sk-item\"><div class=\"sk-label-container\"><div class=\"sk-label sk-toggleable\"><input class=\"sk-toggleable__control sk-hidden--visually\" id=\"sk-estimator-id-63\" type=\"checkbox\" ><label for=\"sk-estimator-id-63\" class=\"sk-toggleable__label sk-toggleable__label-arrow\">bedrooms</label><div class=\"sk-toggleable__content\"><pre>[&#x27;total_bedrooms&#x27;, &#x27;total_rooms&#x27;]</pre></div></div></div><div class=\"sk-serial\"><div class=\"sk-item\"><div class=\"sk-serial\"><div class=\"sk-item\"><div class=\"sk-estimator sk-toggleable\"><input class=\"sk-toggleable__control sk-hidden--visually\" id=\"sk-estimator-id-64\" type=\"checkbox\" ><label for=\"sk-estimator-id-64\" class=\"sk-toggleable__label sk-toggleable__label-arrow\">SimpleImputer</label><div class=\"sk-toggleable__content\"><pre>SimpleImputer(strategy=&#x27;median&#x27;)</pre></div></div></div><div class=\"sk-item\"><div class=\"sk-estimator sk-toggleable\"><input class=\"sk-toggleable__control sk-hidden--visually\" id=\"sk-estimator-id-65\" type=\"checkbox\" ><label for=\"sk-estimator-id-65\" class=\"sk-toggleable__label sk-toggleable__label-arrow\">FunctionTransformer</label><div class=\"sk-toggleable__content\"><pre>FunctionTransformer(feature_names_out=&lt;function ratio_name at 0x7af9f5aad7e0&gt;,\n",
       "                    func=&lt;function column_ratio at 0x7af9f5aad6c0&gt;)</pre></div></div></div><div class=\"sk-item\"><div class=\"sk-estimator sk-toggleable\"><input class=\"sk-toggleable__control sk-hidden--visually\" id=\"sk-estimator-id-66\" type=\"checkbox\" ><label for=\"sk-estimator-id-66\" class=\"sk-toggleable__label sk-toggleable__label-arrow\">StandardScaler</label><div class=\"sk-toggleable__content\"><pre>StandardScaler()</pre></div></div></div></div></div></div></div></div><div class=\"sk-parallel-item\"><div class=\"sk-item\"><div class=\"sk-label-container\"><div class=\"sk-label sk-toggleable\"><input class=\"sk-toggleable__control sk-hidden--visually\" id=\"sk-estimator-id-67\" type=\"checkbox\" ><label for=\"sk-estimator-id-67\" class=\"sk-toggleable__label sk-toggleable__label-arrow\">rooms_per_house</label><div class=\"sk-toggleable__content\"><pre>[&#x27;total_rooms&#x27;, &#x27;households&#x27;]</pre></div></div></div><div class=\"sk-serial\"><div class=\"sk-item\"><div class=\"sk-serial\"><div class=\"sk-item\"><div class=\"sk-estimator sk-toggleable\"><input class=\"sk-toggleable__control sk-hidden--visually\" id=\"sk-estimator-id-68\" type=\"checkbox\" ><label for=\"sk-estimator-id-68\" class=\"sk-toggleable__label sk-toggleable__label-arrow\">SimpleImputer</label><div class=\"sk-toggleable__content\"><pre>SimpleImputer(strategy=&#x27;median&#x27;)</pre></div></div></div><div class=\"sk-item\"><div class=\"sk-estimator sk-toggleable\"><input class=\"sk-toggleable__control sk-hidden--visually\" id=\"sk-estimator-id-69\" type=\"checkbox\" ><label for=\"sk-estimator-id-69\" class=\"sk-toggleable__label sk-toggleable__label-arrow\">FunctionTransformer</label><div class=\"sk-toggleable__content\"><pre>FunctionTransformer(feature_names_out=&lt;function ratio_name at 0x7af9f5aad7e0&gt;,\n",
       "                    func=&lt;function column_ratio at 0x7af9f5aad6c0&gt;)</pre></div></div></div><div class=\"sk-item\"><div class=\"sk-estimator sk-toggleable\"><input class=\"sk-toggleable__control sk-hidden--visually\" id=\"sk-estimator-id-70\" type=\"checkbox\" ><label for=\"sk-estimator-id-70\" class=\"sk-toggleable__label sk-toggleable__label-arrow\">StandardScaler</label><div class=\"sk-toggleable__content\"><pre>StandardScaler()</pre></div></div></div></div></div></div></div></div><div class=\"sk-parallel-item\"><div class=\"sk-item\"><div class=\"sk-label-container\"><div class=\"sk-label sk-toggleable\"><input class=\"sk-toggleable__control sk-hidden--visually\" id=\"sk-estimator-id-71\" type=\"checkbox\" ><label for=\"sk-estimator-id-71\" class=\"sk-toggleable__label sk-toggleable__label-arrow\">people_per_house</label><div class=\"sk-toggleable__content\"><pre>[&#x27;population&#x27;, &#x27;households&#x27;]</pre></div></div></div><div class=\"sk-serial\"><div class=\"sk-item\"><div class=\"sk-serial\"><div class=\"sk-item\"><div class=\"sk-estimator sk-toggleable\"><input class=\"sk-toggleable__control sk-hidden--visually\" id=\"sk-estimator-id-72\" type=\"checkbox\" ><label for=\"sk-estimator-id-72\" class=\"sk-toggleable__label sk-toggleable__label-arrow\">SimpleImputer</label><div class=\"sk-toggleable__content\"><pre>SimpleImputer(strategy=&#x27;median&#x27;)</pre></div></div></div><div class=\"sk-item\"><div class=\"sk-estimator sk-toggleable\"><input class=\"sk-toggleable__control sk-hidden--visually\" id=\"sk-estimator-id-73\" type=\"checkbox\" ><label for=\"sk-estimator-id-73\" class=\"sk-toggleable__label sk-toggleable__label-arrow\">FunctionTransformer</label><div class=\"sk-toggleable__content\"><pre>FunctionTransformer(feature_names_out=&lt;function ratio_name at 0x7af9f5aad7e0&gt;,\n",
       "                    func=&lt;function column_ratio at 0x7af9f5aad6c0&gt;)</pre></div></div></div><div class=\"sk-item\"><div class=\"sk-estimator sk-toggleable\"><input class=\"sk-toggleable__control sk-hidden--visually\" id=\"sk-estimator-id-74\" type=\"checkbox\" ><label for=\"sk-estimator-id-74\" class=\"sk-toggleable__label sk-toggleable__label-arrow\">StandardScaler</label><div class=\"sk-toggleable__content\"><pre>StandardScaler()</pre></div></div></div></div></div></div></div></div><div class=\"sk-parallel-item\"><div class=\"sk-item\"><div class=\"sk-label-container\"><div class=\"sk-label sk-toggleable\"><input class=\"sk-toggleable__control sk-hidden--visually\" id=\"sk-estimator-id-75\" type=\"checkbox\" ><label for=\"sk-estimator-id-75\" class=\"sk-toggleable__label sk-toggleable__label-arrow\">log</label><div class=\"sk-toggleable__content\"><pre>[&#x27;total_bedrooms&#x27;, &#x27;total_rooms&#x27;, &#x27;population&#x27;, &#x27;households&#x27;, &#x27;median_income&#x27;]</pre></div></div></div><div class=\"sk-serial\"><div class=\"sk-item\"><div class=\"sk-serial\"><div class=\"sk-item\"><div class=\"sk-estimator sk-toggleable\"><input class=\"sk-toggleable__control sk-hidden--visually\" id=\"sk-estimator-id-76\" type=\"checkbox\" ><label for=\"sk-estimator-id-76\" class=\"sk-toggleable__label sk-toggleable__label-arrow\">SimpleImputer</label><div class=\"sk-toggleable__content\"><pre>SimpleImputer(strategy=&#x27;median&#x27;)</pre></div></div></div><div class=\"sk-item\"><div class=\"sk-estimator sk-toggleable\"><input class=\"sk-toggleable__control sk-hidden--visually\" id=\"sk-estimator-id-77\" type=\"checkbox\" ><label for=\"sk-estimator-id-77\" class=\"sk-toggleable__label sk-toggleable__label-arrow\">FunctionTransformer</label><div class=\"sk-toggleable__content\"><pre>FunctionTransformer(feature_names_out=&#x27;one-to-one&#x27;, func=&lt;ufunc &#x27;log&#x27;&gt;)</pre></div></div></div><div class=\"sk-item\"><div class=\"sk-estimator sk-toggleable\"><input class=\"sk-toggleable__control sk-hidden--visually\" id=\"sk-estimator-id-78\" type=\"checkbox\" ><label for=\"sk-estimator-id-78\" class=\"sk-toggleable__label sk-toggleable__label-arrow\">StandardScaler</label><div class=\"sk-toggleable__content\"><pre>StandardScaler()</pre></div></div></div></div></div></div></div></div><div class=\"sk-parallel-item\"><div class=\"sk-item\"><div class=\"sk-label-container\"><div class=\"sk-label sk-toggleable\"><input class=\"sk-toggleable__control sk-hidden--visually\" id=\"sk-estimator-id-79\" type=\"checkbox\" ><label for=\"sk-estimator-id-79\" class=\"sk-toggleable__label sk-toggleable__label-arrow\">geo</label><div class=\"sk-toggleable__content\"><pre>[&#x27;latitude&#x27;, &#x27;longitude&#x27;]</pre></div></div></div><div class=\"sk-serial\"><div class=\"sk-item\"><div class=\"sk-estimator sk-toggleable\"><input class=\"sk-toggleable__control sk-hidden--visually\" id=\"sk-estimator-id-80\" type=\"checkbox\" ><label for=\"sk-estimator-id-80\" class=\"sk-toggleable__label sk-toggleable__label-arrow\">ClusterSimilarity</label><div class=\"sk-toggleable__content\"><pre>ClusterSimilarity(random_state=42)</pre></div></div></div></div></div></div><div class=\"sk-parallel-item\"><div class=\"sk-item\"><div class=\"sk-label-container\"><div class=\"sk-label sk-toggleable\"><input class=\"sk-toggleable__control sk-hidden--visually\" id=\"sk-estimator-id-81\" type=\"checkbox\" ><label for=\"sk-estimator-id-81\" class=\"sk-toggleable__label sk-toggleable__label-arrow\">cat</label><div class=\"sk-toggleable__content\"><pre>&lt;sklearn.compose._column_transformer.make_column_selector object at 0x7af9f5af0580&gt;</pre></div></div></div><div class=\"sk-serial\"><div class=\"sk-item\"><div class=\"sk-serial\"><div class=\"sk-item\"><div class=\"sk-estimator sk-toggleable\"><input class=\"sk-toggleable__control sk-hidden--visually\" id=\"sk-estimator-id-82\" type=\"checkbox\" ><label for=\"sk-estimator-id-82\" class=\"sk-toggleable__label sk-toggleable__label-arrow\">SimpleImputer</label><div class=\"sk-toggleable__content\"><pre>SimpleImputer(strategy=&#x27;most_frequent&#x27;)</pre></div></div></div><div class=\"sk-item\"><div class=\"sk-estimator sk-toggleable\"><input class=\"sk-toggleable__control sk-hidden--visually\" id=\"sk-estimator-id-83\" type=\"checkbox\" ><label for=\"sk-estimator-id-83\" class=\"sk-toggleable__label sk-toggleable__label-arrow\">OneHotEncoder</label><div class=\"sk-toggleable__content\"><pre>OneHotEncoder(handle_unknown=&#x27;ignore&#x27;)</pre></div></div></div></div></div></div></div></div><div class=\"sk-parallel-item\"><div class=\"sk-item\"><div class=\"sk-label-container\"><div class=\"sk-label sk-toggleable\"><input class=\"sk-toggleable__control sk-hidden--visually\" id=\"sk-estimator-id-84\" type=\"checkbox\" ><label for=\"sk-estimator-id-84\" class=\"sk-toggleable__label sk-toggleable__label-arrow\">remainder</label><div class=\"sk-toggleable__content\"><pre>[&#x27;housing_median_age&#x27;]</pre></div></div></div><div class=\"sk-serial\"><div class=\"sk-item\"><div class=\"sk-serial\"><div class=\"sk-item\"><div class=\"sk-estimator sk-toggleable\"><input class=\"sk-toggleable__control sk-hidden--visually\" id=\"sk-estimator-id-85\" type=\"checkbox\" ><label for=\"sk-estimator-id-85\" class=\"sk-toggleable__label sk-toggleable__label-arrow\">SimpleImputer</label><div class=\"sk-toggleable__content\"><pre>SimpleImputer(strategy=&#x27;median&#x27;)</pre></div></div></div><div class=\"sk-item\"><div class=\"sk-estimator sk-toggleable\"><input class=\"sk-toggleable__control sk-hidden--visually\" id=\"sk-estimator-id-86\" type=\"checkbox\" ><label for=\"sk-estimator-id-86\" class=\"sk-toggleable__label sk-toggleable__label-arrow\">StandardScaler</label><div class=\"sk-toggleable__content\"><pre>StandardScaler()</pre></div></div></div></div></div></div></div></div></div></div><div class=\"sk-item sk-dashed-wrapped\"><div class=\"sk-label-container\"><div class=\"sk-label sk-toggleable\"><input class=\"sk-toggleable__control sk-hidden--visually\" id=\"sk-estimator-id-87\" type=\"checkbox\" ><label for=\"sk-estimator-id-87\" class=\"sk-toggleable__label sk-toggleable__label-arrow\">selector: SelectFromModel</label><div class=\"sk-toggleable__content\"><pre>SelectFromModel(estimator=RandomForestRegressor(random_state=42),\n",
       "                threshold=0.007404346497669995)</pre></div></div></div><div class=\"sk-parallel\"><div class=\"sk-parallel-item\"><div class=\"sk-item\"><div class=\"sk-label-container\"><div class=\"sk-label sk-toggleable\"><input class=\"sk-toggleable__control sk-hidden--visually\" id=\"sk-estimator-id-88\" type=\"checkbox\" ><label for=\"sk-estimator-id-88\" class=\"sk-toggleable__label sk-toggleable__label-arrow\">estimator: RandomForestRegressor</label><div class=\"sk-toggleable__content\"><pre>RandomForestRegressor(random_state=42)</pre></div></div></div><div class=\"sk-serial\"><div class=\"sk-item\"><div class=\"sk-estimator sk-toggleable\"><input class=\"sk-toggleable__control sk-hidden--visually\" id=\"sk-estimator-id-89\" type=\"checkbox\" ><label for=\"sk-estimator-id-89\" class=\"sk-toggleable__label sk-toggleable__label-arrow\">RandomForestRegressor</label><div class=\"sk-toggleable__content\"><pre>RandomForestRegressor(random_state=42)</pre></div></div></div></div></div></div></div></div><div class=\"sk-item\"><div class=\"sk-estimator sk-toggleable\"><input class=\"sk-toggleable__control sk-hidden--visually\" id=\"sk-estimator-id-90\" type=\"checkbox\" ><label for=\"sk-estimator-id-90\" class=\"sk-toggleable__label sk-toggleable__label-arrow\">SVR</label><div class=\"sk-toggleable__content\"><pre>SVR(C=195880.83012927117, gamma=0.3103108690191677)</pre></div></div></div></div></div></div></div>"
      ],
      "text/plain": [
       "Pipeline(steps=[('preprocessing',\n",
       "                 ColumnTransformer(remainder=Pipeline(steps=[('simpleimputer',\n",
       "                                                              SimpleImputer(strategy='median')),\n",
       "                                                             ('standardscaler',\n",
       "                                                              StandardScaler())]),\n",
       "                                   transformers=[('bedrooms',\n",
       "                                                  Pipeline(steps=[('simpleimputer',\n",
       "                                                                   SimpleImputer(strategy='median')),\n",
       "                                                                  ('functiontransformer',\n",
       "                                                                   FunctionTransformer(feature_names_out=<function ratio_name at 0x7af9f5a...\n",
       "                                                                   SimpleImputer(strategy='most_frequent')),\n",
       "                                                                  ('onehotencoder',\n",
       "                                                                   OneHotEncoder(handle_unknown='ignore'))]),\n",
       "                                                  <sklearn.compose._column_transformer.make_column_selector object at 0x7af9f5af0580>)])),\n",
       "                ('selector',\n",
       "                 SelectFromModel(estimator=RandomForestRegressor(random_state=42),\n",
       "                                 threshold=0.007404346497669995)),\n",
       "                ('svr', SVR(C=195880.83012927117, gamma=0.3103108690191677))])"
      ]
     },
     "execution_count": 24,
     "metadata": {},
     "output_type": "execute_result"
    }
   ],
   "source": [
    "from sklearn.pipeline import Pipeline\n",
    "from sklearn.model_selection import RandomizedSearchCV\n",
    "from sklearn.feature_selection import SelectFromModel\n",
    "from sklearn.ensemble import RandomForestRegressor\n",
    "from sklearn.svm import SVR\n",
    "from scipy.stats import uniform\n",
    "\n",
    "# Define the parameter distributions including the threshold\n",
    "param_distribs = {\n",
    "    'selector__threshold': uniform(0, 0.05),\n",
    "    'svr__C': loguniform(20, 200_000),\n",
    "    'svr__gamma': expon(scale=1.0),\n",
    "    'svr__kernel': ['linear', 'rbf']\n",
    "}\n",
    "\n",
    "# Create the pipeline with a placeholder threshold value\n",
    "selector_pipeline = Pipeline([\n",
    "    ('preprocessing', preprocessing),\n",
    "    ('selector', SelectFromModel(RandomForestRegressor(random_state=42))),\n",
    "    ('svr', SVR()),\n",
    "])\n",
    "\n",
    "# Define the random search\n",
    "rnd_search = RandomizedSearchCV(selector_pipeline,\n",
    "                                param_distributions=param_distribs,\n",
    "                                n_iter=50, cv=3,\n",
    "                                scoring='neg_root_mean_squared_error',\n",
    "                                verbose=2,\n",
    "                                random_state=42)\n",
    "\n",
    "rnd_search.fit(housing.iloc[:5000], housing_labels.iloc[:5000])\n",
    "\n",
    "# Get the best parameters\n",
    "best_threshold = rnd_search.best_params_['selector__threshold']\n",
    "best_svr_C = rnd_search.best_params_['svr__C']\n",
    "best_svr_gamma = rnd_search.best_params_['svr__gamma']\n",
    "best_svr_kernel = rnd_search.best_params_['svr__kernel']\n",
    "\n",
    "# Update the pipeline with the best parameters\n",
    "selector_pipeline.set_params(\n",
    "    selector__threshold=best_threshold,\n",
    "    svr__C=best_svr_C,\n",
    "    svr__gamma=best_svr_gamma,\n",
    "    svr__kernel=best_svr_kernel\n",
    ")"
   ]
  },
  {
   "cell_type": "code",
   "execution_count": 27,
   "metadata": {},
   "outputs": [
    {
     "data": {
      "text/plain": [
       "0.007404346497669995"
      ]
     },
     "execution_count": 27,
     "metadata": {},
     "output_type": "execute_result"
    }
   ],
   "source": [
    "best_threshold"
   ]
  },
  {
   "cell_type": "code",
   "execution_count": 28,
   "metadata": {},
   "outputs": [
    {
     "data": {
      "text/plain": [
       "195880.83012927117"
      ]
     },
     "execution_count": 28,
     "metadata": {},
     "output_type": "execute_result"
    }
   ],
   "source": [
    "best_svr_C"
   ]
  },
  {
   "cell_type": "code",
   "execution_count": 29,
   "metadata": {},
   "outputs": [
    {
     "data": {
      "text/plain": [
       "0.3103108690191677"
      ]
     },
     "execution_count": 29,
     "metadata": {},
     "output_type": "execute_result"
    }
   ],
   "source": [
    "best_svr_gamma"
   ]
  },
  {
   "cell_type": "code",
   "execution_count": 30,
   "metadata": {},
   "outputs": [
    {
     "data": {
      "text/plain": [
       "'rbf'"
      ]
     },
     "execution_count": 30,
     "metadata": {},
     "output_type": "execute_result"
    }
   ],
   "source": [
    "best_svr_kernel"
   ]
  },
  {
   "cell_type": "code",
   "execution_count": 25,
   "metadata": {},
   "outputs": [
    {
     "data": {
      "text/plain": [
       "count        3.000000\n",
       "mean     56713.692587\n",
       "std       2011.579891\n",
       "min      55241.366017\n",
       "25%      55567.689915\n",
       "50%      55894.013813\n",
       "75%      57449.855872\n",
       "max      59005.697931\n",
       "dtype: float64"
      ]
     },
     "execution_count": 25,
     "metadata": {},
     "output_type": "execute_result"
    }
   ],
   "source": [
    "selector_rmses = -cross_val_score(selector_pipeline,\n",
    "                                  housing.iloc[:5000],\n",
    "                                  housing_labels.iloc[:5000],\n",
    "                                  scoring=\"neg_root_mean_squared_error\",\n",
    "                                  cv=3)\n",
    "pd.Series(selector_rmses).describe()"
   ]
  },
  {
   "attachments": {},
   "cell_type": "markdown",
   "metadata": {},
   "source": [
    "Well, it doesn't seem to have helped at all"
   ]
  }
 ],
 "metadata": {
  "kernelspec": {
   "display_name": "handson",
   "language": "python",
   "name": "handson"
  },
  "language_info": {
   "codemirror_mode": {
    "name": "ipython",
    "version": 3
   },
   "file_extension": ".py",
   "mimetype": "text/x-python",
   "name": "python",
   "nbconvert_exporter": "python",
   "pygments_lexer": "ipython3",
   "version": "3.10.12 (main, Nov 20 2023, 15:14:05) [GCC 11.4.0]"
  },
  "nav_menu": {
   "height": "279px",
   "width": "309px"
  },
  "toc": {
   "nav_menu": {},
   "number_sections": true,
   "sideBar": true,
   "skip_h1_title": false,
   "toc_cell": false,
   "toc_position": {},
   "toc_section_display": "block",
   "toc_window_display": false
  },
  "vscode": {
   "interpreter": {
    "hash": "916dbcbb3f70747c44a77c7bcd40155683ae19c65e1c03b4aa3499c5328201f1"
   }
  }
 },
 "nbformat": 4,
 "nbformat_minor": 4
}
